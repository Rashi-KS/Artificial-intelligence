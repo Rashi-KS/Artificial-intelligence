{
 "cells": [
  {
   "cell_type": "code",
   "execution_count": 1,
   "id": "cbc56948-e485-47f8-8b87-00d9124adaaf",
   "metadata": {},
   "outputs": [
    {
     "name": "stdout",
     "output_type": "stream",
     "text": [
      "The knowledge base entails the query.\n"
     ]
    }
   ],
   "source": [
    "import itertools\n",
    "\n",
    "# Define logical operators as functions\n",
    "\n",
    "# AND\n",
    "def AND(p, q):\n",
    "    return p and q\n",
    "\n",
    "# OR\n",
    "def OR(p, q):\n",
    "    return p or q\n",
    "\n",
    "# NOT\n",
    "def NOT(p):\n",
    "    return not p\n",
    "\n",
    "# Implication (P -> Q)\n",
    "def IMPLIES(p, q):\n",
    "    return not p or q\n",
    "\n",
    "# Knowledge base and query functions\n",
    "def knowledge_base(p, q, r):\n",
    "    # KB: P -> Q, Q -> R, P\n",
    "    return IMPLIES(p, q) and IMPLIES(q, r) and p\n",
    "\n",
    "def query(r):\n",
    "    # Query: R\n",
    "    return r\n",
    "\n",
    "# Generate all possible truth assignments for P, Q, R\n",
    "def generate_truth_assignments(variables):\n",
    "    # Generate all possible combinations of truth values for the given variables\n",
    "    return list(itertools.product([True, False], repeat=len(variables)))\n",
    "\n",
    "# Check entailment\n",
    "def check_entailment(kb_func, query_func, variables):\n",
    "    # Generate all possible truth assignments for the variables\n",
    "    truth_assignments = generate_truth_assignments(variables)\n",
    "    \n",
    "    # Check if the KB entails the query\n",
    "    for assignment in truth_assignments:\n",
    "        p, q, r = assignment\n",
    "        if kb_func(p, q, r):  # If KB is True under this assignment\n",
    "            if not query_func(r):  # But query is False\n",
    "                return False  # KB does not entail query\n",
    "    \n",
    "    return True  # If we never found a counterexample, the KB entails the query\n",
    "\n",
    "# Define variables (Propositions)\n",
    "variables = ['P', 'Q', 'R']\n",
    "\n",
    "# Check if the knowledge base entails the query\n",
    "result = check_entailment(knowledge_base, query, variables)\n",
    "\n",
    "# Print result\n",
    "if result:\n",
    "    print(\"The knowledge base entails the query.\")\n",
    "else:\n",
    "    print(\"The knowledge base does NOT entail the query.\")\n"
   ]
  },
  {
   "cell_type": "code",
   "execution_count": null,
   "id": "646742ec-b3f3-46bc-a17a-fd1e952da702",
   "metadata": {},
   "outputs": [],
   "source": []
  }
 ],
 "metadata": {
  "kernelspec": {
   "display_name": "Python 3 (ipykernel)",
   "language": "python",
   "name": "python3"
  },
  "language_info": {
   "codemirror_mode": {
    "name": "ipython",
    "version": 3
   },
   "file_extension": ".py",
   "mimetype": "text/x-python",
   "name": "python",
   "nbconvert_exporter": "python",
   "pygments_lexer": "ipython3",
   "version": "3.12.7"
  }
 },
 "nbformat": 4,
 "nbformat_minor": 5
}
