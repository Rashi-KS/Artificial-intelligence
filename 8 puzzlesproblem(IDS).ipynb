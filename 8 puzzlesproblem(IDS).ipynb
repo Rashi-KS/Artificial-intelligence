{
 "cells": [
  {
   "cell_type": "code",
   "execution_count": 2,
   "id": "7c64679d-868d-404a-b276-00ea4be0a363",
   "metadata": {},
   "outputs": [
    {
     "name": "stdout",
     "output_type": "stream",
     "text": [
      "Solution found in 3 moves:\n",
      "(1, 2, 3)\n",
      "(4, 6, 0)\n",
      "(7, 5, 8)\n",
      "\n",
      "(1, 2, 3)\n",
      "(4, 0, 6)\n",
      "(7, 5, 8)\n",
      "\n",
      "(1, 2, 3)\n",
      "(4, 5, 6)\n",
      "(7, 0, 8)\n",
      "\n",
      "(1, 2, 3)\n",
      "(4, 5, 6)\n",
      "(7, 8, 0)\n",
      "\n"
     ]
    }
   ],
   "source": [
    "moves = [(-1,0), (1,0), (0,-1), (0,1)]  # Up, Down, Left, Right\n",
    "goal_state = ((1,2,3),\n",
    "              (4,5,6),\n",
    "              (7,8,0))\n",
    "\n",
    "def get_neighbors(state):\n",
    "    neighbors = []\n",
    "    for i in range(3):\n",
    "        for j in range(3):\n",
    "            if state[i][j] == 0:\n",
    "                zero_pos = (i, j)\n",
    "                break\n",
    "\n",
    "    x, y = zero_pos\n",
    "    for dx, dy in moves:\n",
    "        nx, ny = x + dx, y + dy\n",
    "        if 0 <= nx < 3 and 0 <= ny < 3:\n",
    "            new_state = [list(row) for row in state]\n",
    "            new_state[x][y], new_state[nx][ny] = new_state[nx][ny], new_state[x][y]\n",
    "            neighbors.append(tuple(tuple(row) for row in new_state))\n",
    "    return neighbors\n",
    "\n",
    "def DLS(state, goal, limit, visited):\n",
    "    if state == goal:\n",
    "        return [state]\n",
    "    if limit == 0:\n",
    "        return None\n",
    "    \n",
    "    visited.add(state)\n",
    "    for neighbor in get_neighbors(state):\n",
    "        if neighbor not in visited:\n",
    "            path = DLS(neighbor, goal, limit-1, visited)\n",
    "            if path:\n",
    "                return [state] + path\n",
    "    visited.remove(state)\n",
    "    return None\n",
    "\n",
    "def IDS(start, goal):\n",
    "    depth = 0\n",
    "    while True:\n",
    "        visited = set()\n",
    "        path = DLS(start, goal, depth, visited)\n",
    "        if path:\n",
    "            return path\n",
    "        depth += 1\n",
    "\n",
    "# Example starting state\n",
    "start_state = ((1, 2, 3),\n",
    "               (4, 6, 0),\n",
    "               (7, 5, 8))\n",
    "\n",
    "solution = IDS(start_state, goal_state)\n",
    "\n",
    "if solution:\n",
    "    print(f\"Solution found in {len(solution)-1} moves:\")\n",
    "    for state in solution:\n",
    "        for row in state:\n",
    "            print(row)\n",
    "        print()\n",
    "else:\n",
    "    print(\"No solution found.\")\n"
   ]
  },
  {
   "cell_type": "code",
   "execution_count": null,
   "id": "efddd537-8bd9-479d-adf1-e7ac7a360048",
   "metadata": {},
   "outputs": [],
   "source": []
  }
 ],
 "metadata": {
  "kernelspec": {
   "display_name": "Python 3 (ipykernel)",
   "language": "python",
   "name": "python3"
  },
  "language_info": {
   "codemirror_mode": {
    "name": "ipython",
    "version": 3
   },
   "file_extension": ".py",
   "mimetype": "text/x-python",
   "name": "python",
   "nbconvert_exporter": "python",
   "pygments_lexer": "ipython3",
   "version": "3.12.7"
  }
 },
 "nbformat": 4,
 "nbformat_minor": 5
}
