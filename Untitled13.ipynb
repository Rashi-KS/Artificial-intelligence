{
 "cells": [
  {
   "cell_type": "code",
   "execution_count": 25,
   "id": "d6b435ab-58ca-4c23-b9db-b48a9e4afd44",
   "metadata": {},
   "outputs": [
    {
     "name": "stdout",
     "output_type": "stream",
     "text": [
      "=== WUMPUS WORLD: PIT & WUMPUS DETECTOR ===\n",
      "\n"
     ]
    },
    {
     "name": "stdin",
     "output_type": "stream",
     "text": [
      "Enter position to check (e.g., 2,2):  1,1\n"
     ]
    },
    {
     "name": "stdout",
     "output_type": "stream",
     "text": [
      " (1,1) not in pit list\n",
      "\n",
      "=== RESULT ===\n",
      " There is NO Pit at (1,1)\n",
      "There is NO Wumpus at (1,1)\n"
     ]
    }
   ],
   "source": [
    "import itertools\n",
    "\n",
    "# Define propositional symbols\n",
    "pit_symbols = ['P12', 'P21', 'P22', 'P31']\n",
    "wumpus_symbols = ['W12', 'W21', 'W11', 'W22', 'W31']\n",
    "symbols = pit_symbols + wumpus_symbols\n",
    "\n",
    "# Knowledge Base\n",
    "def KB(model):\n",
    "    # Extract pits\n",
    "    P12, P21, P22, P31 = [model[s] for s in pit_symbols]\n",
    "    # Extract wumpus\n",
    "    W12, W21, W11, W22, W31 = [model[s] for s in wumpus_symbols]\n",
    "\n",
    "    # --- PITS (from Breezes) ---\n",
    "    clause1 = (not P12) and (not P21)      # ¬B(1,1)\n",
    "    clause2 = (P22 or P31)                 # B(2,1)\n",
    "\n",
    "    # --- WUMPUS (from Stenches) ---\n",
    "    clause3 = (not W12) and (not W21)      # ¬S(1,1)\n",
    "    clause4 = (not W11) and (not W22) and (not W31)  # ¬S(2,1)\n",
    "\n",
    "    return clause1 and clause2 and clause3 and clause4\n",
    "\n",
    "\n",
    "def entails(KB, query, symbols):\n",
    "    \"\"\"Returns True if KB entails query (query true in all KB-satisfying models).\"\"\"\n",
    "    for values in itertools.product([True, False], repeat=len(symbols)):\n",
    "        model = dict(zip(symbols, values))\n",
    "        if KB(model):  # if model satisfies KB\n",
    "            if not query(model):  # but query is false\n",
    "                return False\n",
    "    return True\n",
    "\n",
    "\n",
    "def possibly_true(KB, query, symbols):\n",
    "    \"\"\"Returns True if query CAN be true in at least one model that satisfies KB.\"\"\"\n",
    "    for values in itertools.product([True, False], repeat=len(symbols)):\n",
    "        model = dict(zip(symbols, values))\n",
    "        if KB(model) and query(model):\n",
    "            return True\n",
    "    return False\n",
    "\n",
    "\n",
    "# --- MAIN PROGRAM ---\n",
    "print(\"=== WUMPUS WORLD: PIT & WUMPUS DETECTOR ===\\n\")\n",
    "pos = input(\"Enter position to check (e.g., 2,2): \").strip()\n",
    "x, y = pos.split(',')\n",
    "x, y = x.strip(), y.strip()\n",
    "\n",
    "pit_symbol = f\"P{x}{y}\"\n",
    "wumpus_symbol = f\"W{x}{y}\"\n",
    "\n",
    "pit_entails = wumpus_entails = None\n",
    "pit_possible = wumpus_possible = None\n",
    "\n",
    "# PIT check\n",
    "if pit_symbol in pit_symbols:\n",
    "    pit_query = lambda model: model[pit_symbol]\n",
    "    pit_entails = entails(KB, pit_query, symbols)\n",
    "    pit_possible = possibly_true(KB, pit_query, symbols)\n",
    "else:\n",
    "    print(f\" ({x},{y}) not in pit list\")\n",
    "\n",
    "# WUMPUS check\n",
    "if wumpus_symbol in wumpus_symbols:\n",
    "    wumpus_query = lambda model: model[wumpus_symbol]\n",
    "    wumpus_entails = entails(KB, wumpus_query, symbols)\n",
    "    wumpus_possible = possibly_true(KB, wumpus_query, symbols)\n",
    "else:\n",
    "    print(f\" ({x},{y}) not in wumpus list\")\n",
    "\n",
    "# --- Results ---\n",
    "print(\"\\n=== RESULT ===\")\n",
    "if pit_entails:\n",
    "    print(f\" There IS DEFINITELY a Pit at ({x},{y})\")\n",
    "elif pit_possible:\n",
    "    print(f\" A Pit MIGHT be at ({x},{y}) (possible but not certain)\")\n",
    "else:\n",
    "    print(f\" There is NO Pit at ({x},{y})\")\n",
    "\n",
    "if wumpus_entails:\n",
    "    print(f\" There IS DEFINITELY a Wumpus at ({x},{y})\")\n",
    "elif wumpus_possible:\n",
    "    print(f\"A Wumpus MIGHT be at ({x},{y}) (possible but not certain)\")\n",
    "else:\n",
    "    print(f\"There is NO Wumpus at ({x},{y})\")\n"
   ]
  },
  {
   "cell_type": "code",
   "execution_count": null,
   "id": "9b54d176-1730-43ef-8ad8-4dd094767bae",
   "metadata": {},
   "outputs": [],
   "source": []
  }
 ],
 "metadata": {
  "kernelspec": {
   "display_name": "Python 3 (ipykernel)",
   "language": "python",
   "name": "python3"
  },
  "language_info": {
   "codemirror_mode": {
    "name": "ipython",
    "version": 3
   },
   "file_extension": ".py",
   "mimetype": "text/x-python",
   "name": "python",
   "nbconvert_exporter": "python",
   "pygments_lexer": "ipython3",
   "version": "3.12.7"
  }
 },
 "nbformat": 4,
 "nbformat_minor": 5
}
